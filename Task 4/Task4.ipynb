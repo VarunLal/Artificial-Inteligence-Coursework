{
  "nbformat": 4,
  "nbformat_minor": 0,
  "metadata": {
    "colab": {
      "name": "Task4.ipynb",
      "provenance": [],
      "collapsed_sections": []
    },
    "kernelspec": {
      "name": "python3",
      "display_name": "Python 3"
    },
    "language_info": {
      "name": "python"
    }
  },
  "cells": [
    {
      "cell_type": "code",
      "source": [
        "import torch\n",
        "import torch.nn as nn\n",
        "import torch.nn.functional as F \n",
        "\n",
        "from torchvision import datasets, transforms\n",
        "from torch.utils.data import DataLoader\n",
        "from sklearn.metrics import confusion_matrix\n",
        "\n",
        "import matplotlib.pyplot as plt\n",
        "import numpy as np"
      ],
      "metadata": {
        "id": "hdOZoJlphL0S"
      },
      "execution_count": 63,
      "outputs": []
    },
    {
      "cell_type": "code",
      "source": [
        "# Converts the images from the dataset to pytorch tensors.\n",
        "transform = transforms.ToTensor()"
      ],
      "metadata": {
        "id": "lZtrB3K3hODK"
      },
      "execution_count": 69,
      "outputs": []
    },
    {
      "cell_type": "code",
      "source": [
        "# Downloads CIFAR10 dataset and splits it into a training and testing datasets.\n",
        "data_path = '../data_cifar/'\n",
        "cifar10_train = datasets.CIFAR10(data_path, train=True, download=True, transform=transform)\n",
        "cifar10_test = datasets.CIFAR10(data_path, train=False, download=True, transform=transform)"
      ],
      "metadata": {
        "id": "9iYKlZQRhTTU",
        "colab": {
          "base_uri": "https://localhost:8080/"
        },
        "outputId": "e9da149c-e27c-47e1-edcd-d85058b49ad9"
      },
      "execution_count": 70,
      "outputs": [
        {
          "output_type": "stream",
          "name": "stdout",
          "text": [
            "Files already downloaded and verified\n",
            "Files already downloaded and verified\n"
          ]
        }
      ]
    },
    {
      "cell_type": "code",
      "source": [
        "# Prints the size of the training and testing datasets.\n",
        "print(\"Training: \", len(cifar10_train))\n",
        "print(\"Testing: \", len(cifar10_test))"
      ],
      "metadata": {
        "id": "_Wghr5OShUc3",
        "colab": {
          "base_uri": "https://localhost:8080/"
        },
        "outputId": "aa67f752-255c-4af8-8580-67a47252ccd6"
      },
      "execution_count": 71,
      "outputs": [
        {
          "output_type": "stream",
          "name": "stdout",
          "text": [
            "Training:  50000\n",
            "Testing:  10000\n"
          ]
        }
      ]
    },
    {
      "cell_type": "code",
      "source": [
        "#seed of random number generator set for reporducible results\n",
        "torch.manual_seed(80)\n",
        "# data loaded into batches for training and testing\n",
        "train_loader = DataLoader(cifar10_train, batch_size=100, shuffle=True)\n",
        "test_loader = DataLoader(cifar10_test, batch_size=500, shuffle=False)"
      ],
      "metadata": {
        "id": "ljjwq4PgiU1E"
      },
      "execution_count": 72,
      "outputs": []
    },
    {
      "cell_type": "code",
      "source": [
        "# model class created\n",
        "class NeuralNetwork(nn.Module):\n",
        "  #initialization method set\n",
        "    def __init__(self, input_size=32*32*3, output_size=10):\n",
        "        super().__init__()\n",
        "        # the three input layers created and input sizes defined\n",
        "        self.fc1 = nn.Linear(input_size, 120)\n",
        "        self.fc2 = nn.Linear(120, 84)\n",
        "        self.fc3 = nn.Linear(84, output_size)\n",
        "\n",
        "    def forward(self, X):\n",
        "      # activation functions defined\n",
        "        X = F.relu(self.fc1(X))\n",
        "        X = F.relu(self.fc2(X))\n",
        "        X = self.fc3(X)\n",
        "        # result passed through softax activation function\n",
        "        return F.log_softmax(X, dim=1)"
      ],
      "metadata": {
        "id": "LM06dhLnhgbe"
      },
      "execution_count": 73,
      "outputs": []
    },
    {
      "cell_type": "code",
      "source": [
        "torch.manual_seed(80)\n",
        "\n",
        "# variable model created \n",
        "model = NeuralNetwork()\n",
        "model"
      ],
      "metadata": {
        "id": "CPHHKgzxhg2H",
        "colab": {
          "base_uri": "https://localhost:8080/"
        },
        "outputId": "33134241-c81c-4275-bf4c-01f85d679c62"
      },
      "execution_count": 74,
      "outputs": [
        {
          "output_type": "execute_result",
          "data": {
            "text/plain": [
              "NeuralNetwork(\n",
              "  (fc1): Linear(in_features=3072, out_features=120, bias=True)\n",
              "  (fc2): Linear(in_features=120, out_features=84, bias=True)\n",
              "  (fc3): Linear(in_features=84, out_features=10, bias=True)\n",
              ")"
            ]
          },
          "metadata": {},
          "execution_count": 74
        }
      ]
    },
    {
      "cell_type": "code",
      "source": [
        "# criterion created and loss calculated\n",
        "criterion = nn.CrossEntropyLoss()\n",
        "# optimization algorithm - Stochastic Gradient Descent\n",
        "optimizer = torch.optim.SGD(model.parameters(), lr=0.01)"
      ],
      "metadata": {
        "id": "wPgV_ia7egqM"
      },
      "execution_count": 75,
      "outputs": []
    },
    {
      "cell_type": "code",
      "source": [
        "for images, labels in train_loader:\n",
        "  break\n",
        "\n",
        "images.shape\n",
        "images.view(-1, 3072).shape"
      ],
      "metadata": {
        "id": "vUVRMP-chr6i",
        "colab": {
          "base_uri": "https://localhost:8080/"
        },
        "outputId": "69e76226-a38d-46e3-b443-bac8f301f555"
      },
      "execution_count": 76,
      "outputs": [
        {
          "output_type": "execute_result",
          "data": {
            "text/plain": [
              "torch.Size([100, 3072])"
            ]
          },
          "metadata": {},
          "execution_count": 76
        }
      ]
    },
    {
      "cell_type": "code",
      "source": [
        "import time\n",
        "# set start time to calculate elapsed time once training ends\n",
        "start_time = time.time()"
      ],
      "metadata": {
        "id": "M1EOw86Ihx2x"
      },
      "execution_count": 77,
      "outputs": []
    },
    {
      "cell_type": "code",
      "source": [
        "# number of epochs set\n",
        "epochs = 50\n",
        "\n",
        "# empty lists created\n",
        "train_losses = []\n",
        "test_losses = []\n",
        "train_correct = []\n",
        "test_correct  = []\n"
      ],
      "metadata": {
        "id": "FAeg1g5rhyQm"
      },
      "execution_count": 78,
      "outputs": []
    },
    {
      "cell_type": "code",
      "source": [
        "#  for loop that will iterate in the range of epochs\n",
        "for i in range(epochs):\n",
        "   \n",
        "    trn_corr = 0\n",
        "    tst_corr = 0\n",
        "    batch_corr = 0\n",
        "    \n",
        "# We create a for loop and use the enumerate() method to iterate over X_train and y_train\n",
        "    for b_iter, (X_train, y_train) in enumerate(train_loader):\n",
        "      \n",
        "      # Make sure batch number starts at 1\n",
        "      b_iter +=1\n",
        "\n",
        "      # Predictions of the model\n",
        "      y_pred = model(X_train.view(100, -1))\n",
        "      \n",
        "      # Loss calclulated\n",
        "      loss = criterion(y_pred, y_train)\n",
        "      \n",
        "      # Extract maximal predicted values\n",
        "      predicted = torch.max(y_pred.data, 1)[1]\n",
        "      batch_corr = (predicted == y_train).sum()\n",
        "      trn_corr += batch_corr\n",
        "      \n",
        "      # gradient equals to zero after each epoch\n",
        "      optimizer.zero_grad()\n",
        "      \n",
        "      # Back propogation applied and parameter optimized\n",
        "      loss.backward()\n",
        "      optimizer.step()\n",
        "      \n",
        "      # every 100 iterations\n",
        "      if b_iter % 100 == 0:\n",
        "        \n",
        "        # accuracy calculated\n",
        "        accuracy = trn_corr.item()*100 / (100*b_iter)\n",
        "        # print out during training\n",
        "        print( f'epoch: {i} iterations {b_iter} loss:{loss.item()} accuracy:{accuracy} ')\n",
        "    \n",
        "    # update training loss and accuracy for each epoch and append to lists \n",
        "    train_losses.append(loss)\n",
        "    train_correct.append(trn_corr)\n",
        "\n",
        "    # Run the test data while training\n",
        "    with torch.no_grad():\n",
        "      \n",
        "      for b_iter, (X_test, y_test) in enumerate(test_loader):\n",
        "        \n",
        "        y_val = model(X_test.view(500, -1))\n",
        "        \n",
        "        predicted = torch.max(y_val.data, 1)[1]\n",
        "        tst_corr += (predicted == y_test).sum()\n",
        "     \n",
        "    loss = criterion(y_val,y_test)\n",
        "    test_losses.append(loss)\n",
        "    test_correct.append(tst_corr)\n",
        "\n",
        "# calculate and print elapsed time\n",
        "total_time = time.time() - start_time\n",
        "print( f' Duration: {total_time/60} mins')"
      ],
      "metadata": {
        "id": "o1ecQ-xChzSU",
        "colab": {
          "base_uri": "https://localhost:8080/"
        },
        "outputId": "dc6e4bdb-4ae0-44c7-fa63-91aed93a445e"
      },
      "execution_count": 79,
      "outputs": [
        {
          "output_type": "stream",
          "name": "stdout",
          "text": [
            "epoch: 0 iterations 100 loss:2.2795045375823975 accuracy:14.53 \n",
            "epoch: 0 iterations 200 loss:2.2311697006225586 accuracy:15.815 \n",
            "epoch: 0 iterations 300 loss:2.166266441345215 accuracy:17.386666666666667 \n",
            "epoch: 0 iterations 400 loss:2.1228456497192383 accuracy:19.4475 \n",
            "epoch: 0 iterations 500 loss:2.1755008697509766 accuracy:20.652 \n",
            "epoch: 1 iterations 100 loss:1.9860860109329224 accuracy:27.7 \n",
            "epoch: 1 iterations 200 loss:2.0195648670196533 accuracy:28.615 \n",
            "epoch: 1 iterations 300 loss:1.9050506353378296 accuracy:29.44 \n",
            "epoch: 1 iterations 400 loss:2.0092906951904297 accuracy:29.725 \n",
            "epoch: 1 iterations 500 loss:2.0692601203918457 accuracy:30.122 \n",
            "epoch: 2 iterations 100 loss:1.8944331407546997 accuracy:31.68 \n",
            "epoch: 2 iterations 200 loss:1.8663487434387207 accuracy:32.455 \n",
            "epoch: 2 iterations 300 loss:1.8614457845687866 accuracy:32.64 \n",
            "epoch: 2 iterations 400 loss:1.779637336730957 accuracy:32.675 \n",
            "epoch: 2 iterations 500 loss:1.9161075353622437 accuracy:32.93 \n",
            "epoch: 3 iterations 100 loss:1.8005683422088623 accuracy:34.85 \n",
            "epoch: 3 iterations 200 loss:2.0042383670806885 accuracy:34.55 \n",
            "epoch: 3 iterations 300 loss:1.8690301179885864 accuracy:34.95666666666666 \n",
            "epoch: 3 iterations 400 loss:1.9892685413360596 accuracy:35.0175 \n",
            "epoch: 3 iterations 500 loss:1.9535125494003296 accuracy:35.096 \n",
            "epoch: 4 iterations 100 loss:1.764022707939148 accuracy:36.91 \n",
            "epoch: 4 iterations 200 loss:1.7087295055389404 accuracy:36.32 \n",
            "epoch: 4 iterations 300 loss:1.9403473138809204 accuracy:36.18333333333333 \n",
            "epoch: 4 iterations 400 loss:1.7785786390304565 accuracy:36.32 \n",
            "epoch: 4 iterations 500 loss:1.7840309143066406 accuracy:36.516 \n",
            "epoch: 5 iterations 100 loss:1.7317793369293213 accuracy:37.86 \n",
            "epoch: 5 iterations 200 loss:1.7489873170852661 accuracy:37.54 \n",
            "epoch: 5 iterations 300 loss:1.649708867073059 accuracy:37.63333333333333 \n",
            "epoch: 5 iterations 400 loss:1.7292460203170776 accuracy:37.75 \n",
            "epoch: 5 iterations 500 loss:1.7475814819335938 accuracy:37.854 \n",
            "epoch: 6 iterations 100 loss:1.578122854232788 accuracy:38.63 \n",
            "epoch: 6 iterations 200 loss:1.5851516723632812 accuracy:38.92 \n",
            "epoch: 6 iterations 300 loss:1.7417571544647217 accuracy:38.88 \n",
            "epoch: 6 iterations 400 loss:1.6217942237854004 accuracy:39.0125 \n",
            "epoch: 6 iterations 500 loss:1.6495709419250488 accuracy:39.18 \n",
            "epoch: 7 iterations 100 loss:1.624407172203064 accuracy:39.63 \n",
            "epoch: 7 iterations 200 loss:1.6862640380859375 accuracy:39.72 \n",
            "epoch: 7 iterations 300 loss:1.5744520425796509 accuracy:39.99 \n",
            "epoch: 7 iterations 400 loss:1.654422640800476 accuracy:40.245 \n",
            "epoch: 7 iterations 500 loss:1.6162495613098145 accuracy:40.404 \n",
            "epoch: 8 iterations 100 loss:1.657090187072754 accuracy:41.05 \n",
            "epoch: 8 iterations 200 loss:1.605659008026123 accuracy:40.835 \n",
            "epoch: 8 iterations 300 loss:1.629918098449707 accuracy:40.92333333333333 \n",
            "epoch: 8 iterations 400 loss:1.5164636373519897 accuracy:40.905 \n",
            "epoch: 8 iterations 500 loss:1.5764540433883667 accuracy:41.034 \n",
            "epoch: 9 iterations 100 loss:1.8002187013626099 accuracy:41.33 \n",
            "epoch: 9 iterations 200 loss:1.615349531173706 accuracy:41.71 \n",
            "epoch: 9 iterations 300 loss:1.6227542161941528 accuracy:41.84 \n",
            "epoch: 9 iterations 400 loss:1.6140154600143433 accuracy:41.9825 \n",
            "epoch: 9 iterations 500 loss:1.4699064493179321 accuracy:42.132 \n",
            "epoch: 10 iterations 100 loss:1.865755558013916 accuracy:41.57 \n",
            "epoch: 10 iterations 200 loss:1.679814338684082 accuracy:42.37 \n",
            "epoch: 10 iterations 300 loss:1.6127328872680664 accuracy:42.57333333333333 \n",
            "epoch: 10 iterations 400 loss:1.5603410005569458 accuracy:42.8225 \n",
            "epoch: 10 iterations 500 loss:1.6280001401901245 accuracy:42.838 \n",
            "epoch: 11 iterations 100 loss:1.5794625282287598 accuracy:44.02 \n",
            "epoch: 11 iterations 200 loss:1.7955302000045776 accuracy:43.66 \n",
            "epoch: 11 iterations 300 loss:1.7909549474716187 accuracy:43.75 \n",
            "epoch: 11 iterations 400 loss:1.6981221437454224 accuracy:43.6175 \n",
            "epoch: 11 iterations 500 loss:1.734384298324585 accuracy:43.698 \n",
            "epoch: 12 iterations 100 loss:1.5864125490188599 accuracy:43.63 \n",
            "epoch: 12 iterations 200 loss:1.4711804389953613 accuracy:43.795 \n",
            "epoch: 12 iterations 300 loss:1.4988877773284912 accuracy:44.03333333333333 \n",
            "epoch: 12 iterations 400 loss:1.3444699048995972 accuracy:44.1675 \n",
            "epoch: 12 iterations 500 loss:1.567118525505066 accuracy:44.4 \n",
            "epoch: 13 iterations 100 loss:1.3794348239898682 accuracy:44.98 \n",
            "epoch: 13 iterations 200 loss:1.606163501739502 accuracy:44.96 \n",
            "epoch: 13 iterations 300 loss:1.4027029275894165 accuracy:45.00666666666667 \n",
            "epoch: 13 iterations 400 loss:1.5118619203567505 accuracy:45.195 \n",
            "epoch: 13 iterations 500 loss:1.5474854707717896 accuracy:45.076 \n",
            "epoch: 14 iterations 100 loss:1.3944534063339233 accuracy:46.0 \n",
            "epoch: 14 iterations 200 loss:1.5869288444519043 accuracy:45.475 \n",
            "epoch: 14 iterations 300 loss:1.5097671747207642 accuracy:45.45333333333333 \n",
            "epoch: 14 iterations 400 loss:1.5159716606140137 accuracy:45.6675 \n",
            "epoch: 14 iterations 500 loss:1.5647358894348145 accuracy:45.462 \n",
            "epoch: 15 iterations 100 loss:1.4499009847640991 accuracy:45.53 \n",
            "epoch: 15 iterations 200 loss:1.4808274507522583 accuracy:45.565 \n",
            "epoch: 15 iterations 300 loss:1.516188144683838 accuracy:45.92666666666667 \n",
            "epoch: 15 iterations 400 loss:1.4556881189346313 accuracy:45.995 \n",
            "epoch: 15 iterations 500 loss:1.4980450868606567 accuracy:46.076 \n",
            "epoch: 16 iterations 100 loss:1.5217379331588745 accuracy:45.94 \n",
            "epoch: 16 iterations 200 loss:1.510596513748169 accuracy:46.53 \n",
            "epoch: 16 iterations 300 loss:1.5552902221679688 accuracy:46.53666666666667 \n",
            "epoch: 16 iterations 400 loss:1.3643683195114136 accuracy:46.68 \n",
            "epoch: 16 iterations 500 loss:1.4417054653167725 accuracy:46.612 \n",
            "epoch: 17 iterations 100 loss:1.3448915481567383 accuracy:47.47 \n",
            "epoch: 17 iterations 200 loss:1.564204216003418 accuracy:46.73 \n",
            "epoch: 17 iterations 300 loss:1.397146463394165 accuracy:46.61333333333334 \n",
            "epoch: 17 iterations 400 loss:1.5166923999786377 accuracy:46.7875 \n",
            "epoch: 17 iterations 500 loss:1.5496882200241089 accuracy:47.06 \n",
            "epoch: 18 iterations 100 loss:1.4950380325317383 accuracy:47.54 \n",
            "epoch: 18 iterations 200 loss:1.5625168085098267 accuracy:47.615 \n",
            "epoch: 18 iterations 300 loss:1.4860583543777466 accuracy:47.45333333333333 \n",
            "epoch: 18 iterations 400 loss:1.6591975688934326 accuracy:47.3425 \n",
            "epoch: 18 iterations 500 loss:1.5008283853530884 accuracy:47.414 \n",
            "epoch: 19 iterations 100 loss:1.4287385940551758 accuracy:47.5 \n",
            "epoch: 19 iterations 200 loss:1.2842743396759033 accuracy:47.72 \n",
            "epoch: 19 iterations 300 loss:1.6156926155090332 accuracy:47.733333333333334 \n",
            "epoch: 19 iterations 400 loss:1.6291126012802124 accuracy:47.8925 \n",
            "epoch: 19 iterations 500 loss:1.647721529006958 accuracy:47.964 \n",
            "epoch: 20 iterations 100 loss:1.5942384004592896 accuracy:48.18 \n",
            "epoch: 20 iterations 200 loss:1.3412634134292603 accuracy:48.325 \n",
            "epoch: 20 iterations 300 loss:1.4241377115249634 accuracy:48.166666666666664 \n",
            "epoch: 20 iterations 400 loss:1.5653550624847412 accuracy:48.2475 \n",
            "epoch: 20 iterations 500 loss:1.4324162006378174 accuracy:48.154 \n",
            "epoch: 21 iterations 100 loss:1.4237415790557861 accuracy:48.38 \n",
            "epoch: 21 iterations 200 loss:1.593907356262207 accuracy:48.94 \n",
            "epoch: 21 iterations 300 loss:1.3441929817199707 accuracy:48.846666666666664 \n",
            "epoch: 21 iterations 400 loss:1.4154822826385498 accuracy:48.74 \n",
            "epoch: 21 iterations 500 loss:1.5034081935882568 accuracy:48.638 \n",
            "epoch: 22 iterations 100 loss:1.2985306978225708 accuracy:48.82 \n",
            "epoch: 22 iterations 200 loss:1.4577114582061768 accuracy:49.035 \n",
            "epoch: 22 iterations 300 loss:1.6293206214904785 accuracy:49.00333333333333 \n",
            "epoch: 22 iterations 400 loss:1.3881434202194214 accuracy:48.87 \n",
            "epoch: 22 iterations 500 loss:1.4320898056030273 accuracy:49.034 \n",
            "epoch: 23 iterations 100 loss:1.4123029708862305 accuracy:49.79 \n",
            "epoch: 23 iterations 200 loss:1.451640009880066 accuracy:49.5 \n",
            "epoch: 23 iterations 300 loss:1.3852639198303223 accuracy:49.593333333333334 \n",
            "epoch: 23 iterations 400 loss:1.5679975748062134 accuracy:49.475 \n",
            "epoch: 23 iterations 500 loss:1.5623118877410889 accuracy:49.66 \n",
            "epoch: 24 iterations 100 loss:1.3190208673477173 accuracy:49.31 \n",
            "epoch: 24 iterations 200 loss:1.5098304748535156 accuracy:49.775 \n",
            "epoch: 24 iterations 300 loss:1.4528213739395142 accuracy:50.02 \n",
            "epoch: 24 iterations 400 loss:1.3551008701324463 accuracy:49.9175 \n",
            "epoch: 24 iterations 500 loss:1.2977055311203003 accuracy:49.846 \n",
            "epoch: 25 iterations 100 loss:1.4048309326171875 accuracy:50.2 \n",
            "epoch: 25 iterations 200 loss:1.5050883293151855 accuracy:49.66 \n",
            "epoch: 25 iterations 300 loss:1.4504095315933228 accuracy:50.096666666666664 \n",
            "epoch: 25 iterations 400 loss:1.2945027351379395 accuracy:49.955 \n",
            "epoch: 25 iterations 500 loss:1.2898919582366943 accuracy:50.138 \n",
            "epoch: 26 iterations 100 loss:1.4289655685424805 accuracy:51.07 \n",
            "epoch: 26 iterations 200 loss:1.4184597730636597 accuracy:50.585 \n",
            "epoch: 26 iterations 300 loss:1.2406833171844482 accuracy:50.733333333333334 \n",
            "epoch: 26 iterations 400 loss:1.3416155576705933 accuracy:50.69 \n",
            "epoch: 26 iterations 500 loss:1.3847770690917969 accuracy:50.518 \n",
            "epoch: 27 iterations 100 loss:1.5523784160614014 accuracy:50.77 \n",
            "epoch: 27 iterations 200 loss:1.4517768621444702 accuracy:50.635 \n",
            "epoch: 27 iterations 300 loss:1.455080270767212 accuracy:50.46333333333333 \n",
            "epoch: 27 iterations 400 loss:1.3298611640930176 accuracy:50.5025 \n",
            "epoch: 27 iterations 500 loss:1.5023221969604492 accuracy:50.58 \n",
            "epoch: 28 iterations 100 loss:1.5504746437072754 accuracy:51.42 \n",
            "epoch: 28 iterations 200 loss:1.506946086883545 accuracy:51.275 \n",
            "epoch: 28 iterations 300 loss:1.4257396459579468 accuracy:51.22666666666667 \n",
            "epoch: 28 iterations 400 loss:1.339117407798767 accuracy:51.29 \n",
            "epoch: 28 iterations 500 loss:1.5977787971496582 accuracy:51.12 \n",
            "epoch: 29 iterations 100 loss:1.3233540058135986 accuracy:51.0 \n",
            "epoch: 29 iterations 200 loss:1.4374006986618042 accuracy:51.66 \n",
            "epoch: 29 iterations 300 loss:1.363319754600525 accuracy:51.513333333333335 \n",
            "epoch: 29 iterations 400 loss:1.4463976621627808 accuracy:51.5775 \n",
            "epoch: 29 iterations 500 loss:1.3619263172149658 accuracy:51.47 \n",
            "epoch: 30 iterations 100 loss:1.6740844249725342 accuracy:52.64 \n",
            "epoch: 30 iterations 200 loss:1.443644404411316 accuracy:51.585 \n",
            "epoch: 30 iterations 300 loss:1.1509796380996704 accuracy:51.57333333333333 \n",
            "epoch: 30 iterations 400 loss:1.4520078897476196 accuracy:51.5425 \n",
            "epoch: 30 iterations 500 loss:1.3403178453445435 accuracy:51.572 \n",
            "epoch: 31 iterations 100 loss:1.4978995323181152 accuracy:52.1 \n",
            "epoch: 31 iterations 200 loss:1.418455958366394 accuracy:52.26 \n",
            "epoch: 31 iterations 300 loss:1.2708652019500732 accuracy:52.12 \n",
            "epoch: 31 iterations 400 loss:1.2887675762176514 accuracy:52.1575 \n",
            "epoch: 31 iterations 500 loss:1.4436720609664917 accuracy:52.124 \n",
            "epoch: 32 iterations 100 loss:1.4113798141479492 accuracy:53.29 \n",
            "epoch: 32 iterations 200 loss:1.490554928779602 accuracy:52.81 \n",
            "epoch: 32 iterations 300 loss:1.4730921983718872 accuracy:52.593333333333334 \n",
            "epoch: 32 iterations 400 loss:1.4389402866363525 accuracy:52.54 \n",
            "epoch: 32 iterations 500 loss:1.4559359550476074 accuracy:52.296 \n",
            "epoch: 33 iterations 100 loss:1.4837288856506348 accuracy:52.52 \n",
            "epoch: 33 iterations 200 loss:1.2793877124786377 accuracy:52.69 \n",
            "epoch: 33 iterations 300 loss:1.3872992992401123 accuracy:52.64 \n",
            "epoch: 33 iterations 400 loss:1.2803303003311157 accuracy:52.37 \n",
            "epoch: 33 iterations 500 loss:1.446413516998291 accuracy:52.34 \n",
            "epoch: 34 iterations 100 loss:1.3317055702209473 accuracy:53.25 \n",
            "epoch: 34 iterations 200 loss:1.5568753480911255 accuracy:52.485 \n",
            "epoch: 34 iterations 300 loss:1.2634153366088867 accuracy:52.71666666666667 \n",
            "epoch: 34 iterations 400 loss:1.1690670251846313 accuracy:52.7525 \n",
            "epoch: 34 iterations 500 loss:1.172349452972412 accuracy:52.752 \n",
            "epoch: 35 iterations 100 loss:1.3986289501190186 accuracy:53.55 \n",
            "epoch: 35 iterations 200 loss:1.4233189821243286 accuracy:53.015 \n",
            "epoch: 35 iterations 300 loss:1.1883647441864014 accuracy:53.21333333333333 \n",
            "epoch: 35 iterations 400 loss:1.3737742900848389 accuracy:53.0275 \n",
            "epoch: 35 iterations 500 loss:1.2334164381027222 accuracy:53.0 \n",
            "epoch: 36 iterations 100 loss:1.2765334844589233 accuracy:53.77 \n",
            "epoch: 36 iterations 200 loss:1.3760151863098145 accuracy:53.14 \n",
            "epoch: 36 iterations 300 loss:1.2838040590286255 accuracy:53.39333333333333 \n",
            "epoch: 36 iterations 400 loss:1.4796943664550781 accuracy:53.5 \n",
            "epoch: 36 iterations 500 loss:1.1494210958480835 accuracy:53.326 \n",
            "epoch: 37 iterations 100 loss:1.2180209159851074 accuracy:53.54 \n",
            "epoch: 37 iterations 200 loss:1.3420683145523071 accuracy:53.155 \n",
            "epoch: 37 iterations 300 loss:1.3019376993179321 accuracy:53.57 \n",
            "epoch: 37 iterations 400 loss:1.3457837104797363 accuracy:53.6475 \n",
            "epoch: 37 iterations 500 loss:1.2920809984207153 accuracy:53.482 \n",
            "epoch: 38 iterations 100 loss:1.3362656831741333 accuracy:54.16 \n",
            "epoch: 38 iterations 200 loss:1.3758659362792969 accuracy:53.655 \n",
            "epoch: 38 iterations 300 loss:1.3613320589065552 accuracy:53.95 \n",
            "epoch: 38 iterations 400 loss:1.1747280359268188 accuracy:54.02 \n",
            "epoch: 38 iterations 500 loss:1.4115996360778809 accuracy:54.0 \n",
            "epoch: 39 iterations 100 loss:1.1969952583312988 accuracy:54.06 \n",
            "epoch: 39 iterations 200 loss:1.3676502704620361 accuracy:53.99 \n",
            "epoch: 39 iterations 300 loss:1.2920358180999756 accuracy:54.22666666666667 \n",
            "epoch: 39 iterations 400 loss:1.2072246074676514 accuracy:54.3275 \n",
            "epoch: 39 iterations 500 loss:1.252760887145996 accuracy:54.178 \n",
            "epoch: 40 iterations 100 loss:1.2529032230377197 accuracy:54.56 \n",
            "epoch: 40 iterations 200 loss:1.5055036544799805 accuracy:54.38 \n",
            "epoch: 40 iterations 300 loss:1.3711116313934326 accuracy:54.35 \n",
            "epoch: 40 iterations 400 loss:1.2849496603012085 accuracy:54.315 \n",
            "epoch: 40 iterations 500 loss:1.4371942281723022 accuracy:54.188 \n",
            "epoch: 41 iterations 100 loss:1.2975152730941772 accuracy:54.6 \n",
            "epoch: 41 iterations 200 loss:1.4110400676727295 accuracy:54.29 \n",
            "epoch: 41 iterations 300 loss:1.4136629104614258 accuracy:54.5 \n",
            "epoch: 41 iterations 400 loss:1.2939265966415405 accuracy:54.44 \n",
            "epoch: 41 iterations 500 loss:1.229870319366455 accuracy:54.476 \n",
            "epoch: 42 iterations 100 loss:1.1817481517791748 accuracy:54.22 \n",
            "epoch: 42 iterations 200 loss:1.297092080116272 accuracy:54.22 \n",
            "epoch: 42 iterations 300 loss:1.367327094078064 accuracy:54.56333333333333 \n",
            "epoch: 42 iterations 400 loss:1.3522762060165405 accuracy:54.69 \n",
            "epoch: 42 iterations 500 loss:1.376732587814331 accuracy:54.724 \n",
            "epoch: 43 iterations 100 loss:1.1656628847122192 accuracy:54.78 \n",
            "epoch: 43 iterations 200 loss:1.2846739292144775 accuracy:55.16 \n",
            "epoch: 43 iterations 300 loss:1.1293518543243408 accuracy:54.82333333333333 \n",
            "epoch: 43 iterations 400 loss:1.0677379369735718 accuracy:54.925 \n",
            "epoch: 43 iterations 500 loss:1.1567466259002686 accuracy:54.924 \n",
            "epoch: 44 iterations 100 loss:1.3137712478637695 accuracy:54.57 \n",
            "epoch: 44 iterations 200 loss:1.127588152885437 accuracy:54.495 \n",
            "epoch: 44 iterations 300 loss:1.226790428161621 accuracy:55.00333333333333 \n",
            "epoch: 44 iterations 400 loss:1.4435005187988281 accuracy:55.1325 \n",
            "epoch: 44 iterations 500 loss:1.5344140529632568 accuracy:55.278 \n",
            "epoch: 45 iterations 100 loss:1.2002296447753906 accuracy:55.65 \n",
            "epoch: 45 iterations 200 loss:1.0944827795028687 accuracy:55.235 \n",
            "epoch: 45 iterations 300 loss:1.4492679834365845 accuracy:55.22666666666667 \n",
            "epoch: 45 iterations 400 loss:1.287558913230896 accuracy:55.2375 \n",
            "epoch: 45 iterations 500 loss:1.3510801792144775 accuracy:55.26 \n",
            "epoch: 46 iterations 100 loss:1.1439627408981323 accuracy:55.22 \n",
            "epoch: 46 iterations 200 loss:1.298709750175476 accuracy:55.565 \n",
            "epoch: 46 iterations 300 loss:1.2837920188903809 accuracy:55.67666666666667 \n",
            "epoch: 46 iterations 400 loss:1.165418267250061 accuracy:55.4375 \n",
            "epoch: 46 iterations 500 loss:1.3073375225067139 accuracy:55.534 \n",
            "epoch: 47 iterations 100 loss:1.2105700969696045 accuracy:56.01 \n",
            "epoch: 47 iterations 200 loss:1.196744680404663 accuracy:55.995 \n",
            "epoch: 47 iterations 300 loss:1.0762903690338135 accuracy:56.083333333333336 \n",
            "epoch: 47 iterations 400 loss:1.2093818187713623 accuracy:56.1425 \n",
            "epoch: 47 iterations 500 loss:1.2434279918670654 accuracy:55.882 \n",
            "epoch: 48 iterations 100 loss:1.2165104150772095 accuracy:56.82 \n",
            "epoch: 48 iterations 200 loss:1.1854209899902344 accuracy:56.465 \n",
            "epoch: 48 iterations 300 loss:1.2809135913848877 accuracy:56.32 \n",
            "epoch: 48 iterations 400 loss:1.305387020111084 accuracy:56.1875 \n",
            "epoch: 48 iterations 500 loss:1.0186898708343506 accuracy:56.06 \n",
            "epoch: 49 iterations 100 loss:1.169684886932373 accuracy:55.89 \n",
            "epoch: 49 iterations 200 loss:1.2390025854110718 accuracy:55.985 \n",
            "epoch: 49 iterations 300 loss:1.2165015935897827 accuracy:55.946666666666665 \n",
            "epoch: 49 iterations 400 loss:1.3481130599975586 accuracy:56.2525 \n",
            "epoch: 49 iterations 500 loss:1.141201138496399 accuracy:56.318 \n",
            " Duration: 9.276516584555308 mins\n"
          ]
        }
      ]
    },
    {
      "cell_type": "code",
      "source": [
        "# displays training accuracies\n",
        "train_accuracy =[t/500 for t in train_correct ] \n",
        "train_accuracy"
      ],
      "metadata": {
        "id": "DZ6KpEEji_t0",
        "colab": {
          "base_uri": "https://localhost:8080/"
        },
        "outputId": "e12d6932-e883-4202-b896-c1d8b038389e"
      },
      "execution_count": 80,
      "outputs": [
        {
          "output_type": "execute_result",
          "data": {
            "text/plain": [
              "[tensor(20.6520),\n",
              " tensor(30.1220),\n",
              " tensor(32.9300),\n",
              " tensor(35.0960),\n",
              " tensor(36.5160),\n",
              " tensor(37.8540),\n",
              " tensor(39.1800),\n",
              " tensor(40.4040),\n",
              " tensor(41.0340),\n",
              " tensor(42.1320),\n",
              " tensor(42.8380),\n",
              " tensor(43.6980),\n",
              " tensor(44.4000),\n",
              " tensor(45.0760),\n",
              " tensor(45.4620),\n",
              " tensor(46.0760),\n",
              " tensor(46.6120),\n",
              " tensor(47.0600),\n",
              " tensor(47.4140),\n",
              " tensor(47.9640),\n",
              " tensor(48.1540),\n",
              " tensor(48.6380),\n",
              " tensor(49.0340),\n",
              " tensor(49.6600),\n",
              " tensor(49.8460),\n",
              " tensor(50.1380),\n",
              " tensor(50.5180),\n",
              " tensor(50.5800),\n",
              " tensor(51.1200),\n",
              " tensor(51.4700),\n",
              " tensor(51.5720),\n",
              " tensor(52.1240),\n",
              " tensor(52.2960),\n",
              " tensor(52.3400),\n",
              " tensor(52.7520),\n",
              " tensor(53.),\n",
              " tensor(53.3260),\n",
              " tensor(53.4820),\n",
              " tensor(54.),\n",
              " tensor(54.1780),\n",
              " tensor(54.1880),\n",
              " tensor(54.4760),\n",
              " tensor(54.7240),\n",
              " tensor(54.9240),\n",
              " tensor(55.2780),\n",
              " tensor(55.2600),\n",
              " tensor(55.5340),\n",
              " tensor(55.8820),\n",
              " tensor(56.0600),\n",
              " tensor(56.3180)]"
            ]
          },
          "metadata": {},
          "execution_count": 80
        }
      ]
    },
    {
      "cell_type": "code",
      "source": [
        "# displays test accuracies\n",
        "test_accuracy =[t/100 for t in test_correct ] \n",
        "test_accuracy"
      ],
      "metadata": {
        "id": "YGwiDpdPjEu2",
        "colab": {
          "base_uri": "https://localhost:8080/"
        },
        "outputId": "8283146a-800c-40a4-a716-5d0ab142a99c"
      },
      "execution_count": 81,
      "outputs": [
        {
          "output_type": "execute_result",
          "data": {
            "text/plain": [
              "[tensor(28.9400),\n",
              " tensor(32.2000),\n",
              " tensor(33.1500),\n",
              " tensor(36.1500),\n",
              " tensor(37.6300),\n",
              " tensor(38.9300),\n",
              " tensor(39.8200),\n",
              " tensor(40.7800),\n",
              " tensor(41.3000),\n",
              " tensor(42.8100),\n",
              " tensor(43.6200),\n",
              " tensor(43.3900),\n",
              " tensor(43.3700),\n",
              " tensor(44.7500),\n",
              " tensor(45.3700),\n",
              " tensor(45.3000),\n",
              " tensor(46.2500),\n",
              " tensor(45.7800),\n",
              " tensor(46.8700),\n",
              " tensor(45.7400),\n",
              " tensor(46.8100),\n",
              " tensor(47.3600),\n",
              " tensor(48.3500),\n",
              " tensor(48.2100),\n",
              " tensor(47.5800),\n",
              " tensor(48.3400),\n",
              " tensor(49.3200),\n",
              " tensor(47.9200),\n",
              " tensor(49.0300),\n",
              " tensor(50.3800),\n",
              " tensor(49.6800),\n",
              " tensor(50.2500),\n",
              " tensor(49.0100),\n",
              " tensor(49.4500),\n",
              " tensor(50.3300),\n",
              " tensor(49.7000),\n",
              " tensor(50.5700),\n",
              " tensor(50.9700),\n",
              " tensor(50.5500),\n",
              " tensor(50.7200),\n",
              " tensor(50.4600),\n",
              " tensor(51.5400),\n",
              " tensor(50.5700),\n",
              " tensor(49.9400),\n",
              " tensor(49.8300),\n",
              " tensor(50.7700),\n",
              " tensor(51.3500),\n",
              " tensor(51.6100),\n",
              " tensor(51.8000),\n",
              " tensor(51.8700)]"
            ]
          },
          "metadata": {},
          "execution_count": 81
        }
      ]
    },
    {
      "cell_type": "code",
      "source": [
        "# training and test losses plot against epochs\n",
        "plt.plot(train_losses, label= \"Training loss\")\n",
        "plt.plot(test_losses, label= \"Test loss\")\n",
        "plt.legend()"
      ],
      "metadata": {
        "colab": {
          "base_uri": "https://localhost:8080/",
          "height": 282
        },
        "id": "C0jrk1caj4l8",
        "outputId": "38c11c38-c4d3-4d4a-993c-c8caa1f781a7"
      },
      "execution_count": 82,
      "outputs": [
        {
          "output_type": "execute_result",
          "data": {
            "text/plain": [
              "<matplotlib.legend.Legend at 0x7f0510f25c10>"
            ]
          },
          "metadata": {},
          "execution_count": 82
        },
        {
          "output_type": "display_data",
          "data": {
            "image/png": "[encoded data removed]",
            "text/plain": [
              "<Figure size 432x288 with 1 Axes>"
            ]
          },
          "metadata": {
            "needs_background": "light"
          }
        }
      ]
    },
    {
      "cell_type": "code",
      "source": [
        "# training and test accuracies plot against epochs\n",
        "plt.plot(train_accuracy, label= \"Training accuracy\")\n",
        "plt.plot(test_accuracy, label= \"Test accuracy\")\n",
        "plt.legend()"
      ],
      "metadata": {
        "id": "nPx26qE0i48P",
        "colab": {
          "base_uri": "https://localhost:8080/",
          "height": 282
        },
        "outputId": "3d587041-b703-4740-eac4-6e1b22b84444"
      },
      "execution_count": 83,
      "outputs": [
        {
          "output_type": "execute_result",
          "data": {
            "text/plain": [
              "<matplotlib.legend.Legend at 0x7f0510edecd0>"
            ]
          },
          "metadata": {},
          "execution_count": 83
        },
        {
          "output_type": "display_data",
          "data": {
            "image/png": "[encoded data removed]",
            "text/plain": [
              "<Figure size 432x288 with 1 Axes>"
            ]
          },
          "metadata": {
            "needs_background": "light"
          }
        }
      ]
    },
    {
      "cell_type": "code",
      "source": [
        "# test images loaded\n",
        "test_load_all = DataLoader(cifar10_test, batch_size=10000, shuffle=False)"
      ],
      "metadata": {
        "id": "WltWqFeJjQMu"
      },
      "execution_count": 84,
      "outputs": []
    },
    {
      "cell_type": "code",
      "source": [
        "# Evaluate unseen images with model and print accuracy percentage\n",
        "with torch.no_grad():\n",
        "  correct = 0\n",
        "  for X_test, y_test in test_load_all: \n",
        "    y_val = model(X_test.view(len(X_test),-1))\n",
        "    predicted = torch.max(y_val,1)[1]\n",
        "    correct += (predicted == y_test).sum()\n",
        "\n",
        "100*correct.item()/len(cifar10_test)    "
      ],
      "metadata": {
        "colab": {
          "base_uri": "https://localhost:8080/"
        },
        "id": "iunh9oDXjSgG",
        "outputId": "f158900c-00aa-498b-d2a1-9f28201cba2e"
      },
      "execution_count": 85,
      "outputs": [
        {
          "output_type": "execute_result",
          "data": {
            "text/plain": [
              "51.87"
            ]
          },
          "metadata": {},
          "execution_count": 85
        }
      ]
    }
  ]
}
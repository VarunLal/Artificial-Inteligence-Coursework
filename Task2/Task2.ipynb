{
 "cells": [
  {
   "cell_type": "code",
   "execution_count": 1,
   "id": "f4d894af",
   "metadata": {},
   "outputs": [],
   "source": [
    "import pandas as pd\n",
    "import numpy as np\n",
    "import matplotlib.pyplot as plt\n",
    "import io\n",
    "import csv\n",
    "import os\n",
    "import seaborn as sns\n",
    "import statsmodels.api as sm\n",
    "\n",
    "from numpy.polynomial.polynomial import polyfit\n",
    "from sklearn import metrics\n",
    "from sklearn import preprocessing\n",
    "from sklearn import linear_model\n",
    "from sklearn.metrics import mean_squared_error\n",
    "from sklearn.metrics import r2_score\n",
    "from sklearn.linear_model import Perceptron\n",
    "from sklearn.metrics import accuracy_score\n",
    "from sklearn.metrics import confusion_matrix\n",
    "from sklearn.model_selection import train_test_split\n",
    "from sklearn.metrics import ConfusionMatrixDisplay\n",
    "from sklearn.preprocessing import StandardScaler\n",
    "from sklearn.model_selection import KFold\n",
    "from sklearn.preprocessing import MinMaxScaler\n",
    "from matplotlib.patches import Ellipse\n",
    "import matplotlib.transforms as transforms\n",
    "from sklearn.utils import resample"
   ]
  },
  {
   "cell_type": "code",
   "execution_count": 11,
   "id": "6357e69b",
   "metadata": {},
   "outputs": [],
   "source": [
    "#For the final working we used the datasets containing ocean temperature and salinity in various places, for the liner regression model.\n",
    "# Importing original dataset with outliers included\n",
    "# Data = pd.read_csv('bottle.csv')\n",
    "# Y = Data[['T_degC']]\n",
    "# X = Data[['Salnty']]"
   ]
  },
  {
   "cell_type": "code",
   "execution_count": 72,
   "id": "30e47a69",
   "metadata": {},
   "outputs": [],
   "source": [
    "# Importing edited dataset with outliers removed\n",
    "Data = pd.read_csv('bottle-NoOutliers.csv')\n",
    "# Show which datapoints are being analysed\n",
    "Y = Data[['T_degC']]\n",
    "X = Data[['Salnty']]"
   ]
  },
  {
   "cell_type": "code",
   "execution_count": 73,
   "id": "d50c5b20",
   "metadata": {},
   "outputs": [],
   "source": [
    "# Test code for normalization\n",
    "# X and Y data normalized to be between 0 and 1, \n",
    "# to remove influence of one variable on the final data\n",
    "# Y_std = (Y - Y.min(axis=0)) / (Y.max(axis=0) - Y.min(axis=0))\n",
    "# Y_scaled = Y_std * (1 - 0) + 0\n",
    "# Y = Y_scaled\n",
    "\n",
    "# X_std = (X - X.min(axis=0)) / (X.max(axis=0) - X.min(axis=0))\n",
    "# X_scaled = X_std * (1 - 0) + 0\n",
    "# X = X_scaled"
   ]
  },
  {
   "cell_type": "code",
   "execution_count": 74,
   "id": "702eaf2d",
   "metadata": {},
   "outputs": [],
   "source": [
    "# Code for confidence ellipse from https://gist.github.com/CarstenSchelp/b992645537660bda692f218b562d0712\n",
    "\n",
    "def confidence_ellipse(x, y, ax, n_std=3.0, facecolor='none', **kwargs):\n",
    "    \"\"\"\n",
    "    Create a plot of the covariance confidence ellipse of `x` and `y`\n",
    "    \n",
    "    See how and why this works: https://carstenschelp.github.io/2018/09/14/Plot_Confidence_Ellipse_001.html\n",
    "    \n",
    "    This function has made it into the matplotlib examples collection:\n",
    "    https://matplotlib.org/devdocs/gallery/statistics/confidence_ellipse.html#sphx-glr-gallery-statistics-confidence-ellipse-py\n",
    "    \n",
    "    Or, once matplotlib 3.1 has been released:\n",
    "    https://matplotlib.org/gallery/index.html#statistics\n",
    "    \n",
    "    I update this gist according to the version there, because thanks to the matplotlib community\n",
    "    the code has improved quite a bit.\n",
    "    Parameters\n",
    "    ----------\n",
    "    x, y : array_like, shape (n, )\n",
    "        Input data.\n",
    "    ax : matplotlib.axes.Axes\n",
    "        The axes object to draw the ellipse into.\n",
    "    n_std : float\n",
    "        The number of standard deviations to determine the ellipse's radiuses.\n",
    "    Returns\n",
    "    -------\n",
    "    matplotlib.patches.Ellipse\n",
    "    Other parameters\n",
    "    ----------------\n",
    "    kwargs : `~matplotlib.patches.Patch` properties\n",
    "    \"\"\"\n",
    "    if x.size != y.size:\n",
    "        raise ValueError(\"x and y must be the same size\")\n",
    "\n",
    "    cov = np.cov(x.T, y.T)\n",
    "    pearson = cov[0, 1]/np.sqrt(cov[0, 0] * cov[1, 1])\n",
    "    # Using a special case to obtain the eigenvalues of this\n",
    "    # two-dimensionl dataset.\n",
    "    ell_radius_x = np.sqrt(1 + pearson)\n",
    "    ell_radius_y = np.sqrt(1 - pearson)\n",
    "    ellipse = Ellipse((0, 0),\n",
    "        width=ell_radius_x * 2,\n",
    "        height=ell_radius_y * 2,\n",
    "        facecolor=facecolor,\n",
    "        **kwargs)\n",
    "\n",
    "    # Calculating the stdandard deviation of x from\n",
    "    # the squareroot of the variance and multiplying\n",
    "    # with the given number of standard deviations.\n",
    "    scale_x = np.sqrt(cov[0, 0]) * n_std\n",
    "    mean_x = np.mean(x)\n",
    "\n",
    "    # calculating the stdandard deviation of y ...\n",
    "    scale_y = np.sqrt(cov[1, 1]) * n_std\n",
    "    mean_y = np.mean(y)\n",
    "\n",
    "    transf = transforms.Affine2D() \\\n",
    "        .rotate_deg(45) \\\n",
    "        .scale(scale_x, scale_y) \\\n",
    "        .translate(mean_x, mean_y)\n",
    "\n",
    "    ellipse.set_transform(transf + ax.transData)\n",
    "    return ax.add_patch(ellipse)\n",
    "    # render plot with \"plt.show()\"."
   ]
  },
  {
   "cell_type": "code",
   "execution_count": 75,
   "id": "dca7502e",
   "metadata": {},
   "outputs": [
    {
     "data": {
      "text/plain": [
       "<matplotlib.patches.Ellipse at 0x1a87691b310>"
      ]
     },
     "execution_count": 75,
     "metadata": {},
     "output_type": "execute_result"
    },
    {
     "data": {
      "image/png": "[encoded data removed]",
      "text/plain": [
       "<Figure size 432x288 with 1 Axes>"
      ]
     },
     "metadata": {
      "needs_background": "light"
     },
     "output_type": "display_data"
    }
   ],
   "source": [
    "# The training data is plot and outliers were identified, using confidence ellipse, and removed from csv file. \n",
    "fig, ax = plt.subplots()\n",
    "\n",
    "ax.plot(X, Y , '+')\n",
    "ax.set_ylabel('Temperature')\n",
    "ax.set_xlabel('Salt')\n",
    "ax.set_title('Salinty');\n",
    "confidence_ellipse(X , Y , ax , n_std=2, edgecolor='red')"
   ]
  },
  {
   "cell_type": "code",
   "execution_count": 76,
   "id": "d4f3dfac",
   "metadata": {},
   "outputs": [],
   "source": [
    "# Split the dataset into testing and training data with a split of 80/20\n",
    "X_train, X_test, Y_train, Y_test = train_test_split(X, Y, test_size=0.2)"
   ]
  },
  {
   "cell_type": "code",
   "execution_count": 77,
   "id": "3ee5fee4",
   "metadata": {},
   "outputs": [
    {
     "data": {
      "text/plain": [
       "((1700, 1), (1700, 1))"
      ]
     },
     "execution_count": 77,
     "metadata": {},
     "output_type": "execute_result"
    }
   ],
   "source": [
    "# Print the shape of the training data\n",
    "X_train.shape, Y_train.shape"
   ]
  },
  {
   "cell_type": "code",
   "execution_count": 78,
   "id": "2672f054",
   "metadata": {},
   "outputs": [
    {
     "data": {
      "text/plain": [
       "((426, 1), (426, 1))"
      ]
     },
     "execution_count": 78,
     "metadata": {},
     "output_type": "execute_result"
    }
   ],
   "source": [
    "# Print the shape of the testing data\n",
    "X_test.shape, Y_test.shape"
   ]
  },
  {
   "cell_type": "code",
   "execution_count": 79,
   "id": "fb1e1583",
   "metadata": {},
   "outputs": [],
   "source": [
    "model = linear_model.LinearRegression()"
   ]
  },
  {
   "cell_type": "code",
   "execution_count": 80,
   "id": "391cfabe",
   "metadata": {},
   "outputs": [
    {
     "data": {
      "text/plain": [
       "LinearRegression()"
      ]
     },
     "execution_count": 80,
     "metadata": {},
     "output_type": "execute_result"
    }
   ],
   "source": [
    "# Fit the data into the model\n",
    "model.fit(X_train, Y_train)"
   ]
  },
  {
   "cell_type": "code",
   "execution_count": 86,
   "id": "3a2f821c",
   "metadata": {},
   "outputs": [
    {
     "data": {
      "text/plain": [
       "LinearRegression(normalize=True)"
      ]
     },
     "execution_count": 86,
     "metadata": {},
     "output_type": "execute_result"
    }
   ],
   "source": [
    "# Create a linear regression model with the data and normalization performed\n",
    "linear_model.LinearRegression(copy_X=True, fit_intercept=True, n_jobs=None, normalize=True)"
   ]
  },
  {
   "cell_type": "code",
   "execution_count": 87,
   "id": "c0d77c69",
   "metadata": {},
   "outputs": [],
   "source": [
    "# Predict the outcomes based on the inputted data\n",
    "Y_pred = model.predict(X_test)"
   ]
  },
  {
   "cell_type": "code",
   "execution_count": 88,
   "id": "dc35a0d9",
   "metadata": {},
   "outputs": [
    {
     "data": {
      "text/plain": [
       "[<matplotlib.lines.Line2D at 0x1a876bbc550>]"
      ]
     },
     "execution_count": 88,
     "metadata": {},
     "output_type": "execute_result"
    },
    {
     "data": {
      "image/png": "[encoded data removed]",
      "text/plain": [
       "<Figure size 432x288 with 1 Axes>"
      ]
     },
     "metadata": {
      "needs_background": "light"
     },
     "output_type": "display_data"
    }
   ],
   "source": [
    "# Plot the predicted values against the actual values.\n",
    "figure, az = plt.subplots()\n",
    "\n",
    "az.set_ylabel('Predicted Value')\n",
    "az.set_xlabel('Test Value')\n",
    "az.set_title('Model performance with removed outliers and normalization');\n",
    "az.plot(Y_test, Y_pred, '+', color='blue')"
   ]
  },
  {
   "cell_type": "code",
   "execution_count": 89,
   "id": "fffb610a",
   "metadata": {},
   "outputs": [
    {
     "name": "stderr",
     "output_type": "stream",
     "text": [
      "D:\\Varun\\Annaconda\\lib\\site-packages\\seaborn\\_decorators.py:36: FutureWarning: Pass the following variables as keyword args: x, y. From version 0.12, the only valid positional argument will be `data`, and passing other arguments without an explicit keyword will result in an error or misinterpretation.\n",
      "  warnings.warn(\n"
     ]
    },
    {
     "data": {
      "text/plain": [
       "<AxesSubplot:xlabel='T_degC'>"
      ]
     },
     "execution_count": 89,
     "metadata": {},
     "output_type": "execute_result"
    },
    {
     "data": {
      "image/png": "[encoded data removed]",
      "text/plain": [
       "<Figure size 432x288 with 1 Axes>"
      ]
     },
     "metadata": {
      "needs_background": "light"
     },
     "output_type": "display_data"
    }
   ],
   "source": [
    "# Model is plotted\n",
    "sns.regplot(Y_test, Y_pred, marker='+', ci=None)"
   ]
  },
  {
   "cell_type": "code",
   "execution_count": 90,
   "id": "3b1d5323",
   "metadata": {},
   "outputs": [
    {
     "name": "stdout",
     "output_type": "stream",
     "text": [
      "[[-5.36646082]]\n",
      "Intercept:  [189.75873911]\n",
      "Mean squared error (MSE): 3.68\n",
      "Coefficient of determination: (R^2): 0.65\n"
     ]
    }
   ],
   "source": [
    "# Print the coeefficient\n",
    "print(model.coef_)\n",
    "# Print the intercept\n",
    "print('Intercept: ' , model.intercept_)\n",
    "\n",
    "# Calculate and print the mean squared error\n",
    "# Mean Squared error in the original data file with the outliers, was 8.71 after removing the outliers it was 3.98\n",
    "# MSE with data not normalised, was 9.58 and with normalisation it was 3.68\n",
    "print('Mean squared error (MSE): %.2f'\n",
    "      % mean_squared_error(Y_test, Y_pred))\n",
    "\n",
    "# Calculate and print the R-squared value\n",
    "# Coefficient of determination for the original data file with the outliers, was 0.41 after removing the outliers was 0.64\n",
    "print('Coefficient of determination: (R^2): %.2f'\n",
    "     % r2_score(Y_test, Y_pred))"
   ]
  },
  {
   "cell_type": "code",
   "execution_count": null,
   "id": "0c5edc7c",
   "metadata": {},
   "outputs": [],
   "source": []
  },
  {
   "cell_type": "code",
   "execution_count": null,
   "id": "d0508962",
   "metadata": {},
   "outputs": [],
   "source": []
  },
  {
   "cell_type": "code",
   "execution_count": null,
   "id": "bee3849b",
   "metadata": {},
   "outputs": [],
   "source": []
  }
 ],
 "metadata": {
  "kernelspec": {
   "display_name": "Python 3 (ipykernel)",
   "language": "python",
   "name": "python3"
  },
  "language_info": {
   "codemirror_mode": {
    "name": "ipython",
    "version": 3
   },
   "file_extension": ".py",
   "mimetype": "text/x-python",
   "name": "python",
   "nbconvert_exporter": "python",
   "pygments_lexer": "ipython3",
   "version": "3.9.7"
  }
 },
 "nbformat": 4,
 "nbformat_minor": 5
}
